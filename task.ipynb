{
 "cells": [
  {
   "attachments": {},
   "cell_type": "markdown",
   "metadata": {},
   "source": [
    "# **1. Extract information about Justin Trudeau for sysdate-1**"
   ]
  },
  {
   "cell_type": "code",
   "execution_count": 39,
   "metadata": {},
   "outputs": [],
   "source": [
    "import pandas as pd\n",
    "import requests\n",
    "import datetime\n",
    "import urllib.parse\n",
    "from datetime import datetime\n",
    "from datetime import timedelta"
   ]
  },
  {
   "cell_type": "code",
   "execution_count": 42,
   "metadata": {},
   "outputs": [],
   "source": [
    "parameters={\n",
    "    'from-date' : '2016-01-01',\n",
    "    'to-date' : str(datetime.today())[:10],\n",
    "    'q' : 'Justin%20AND%20Trudeau%20OR%20JustinTrudeau',\n",
    "    'format' : 'json',\n",
    "    'page' : 1,\n",
    "    'page-size' : 10,\n",
    "    'api-key' : \"3a6cb1a7-fb92-4191-b819-fd230c164b43\"\n",
    "}\n",
    "\n",
    "main_url='https://content.guardianapis.com/search?'\n",
    "\n",
    "\n",
    "\n",
    "def extractData(params, main_urladdress):\n",
    "    url=main_urladdress+ urllib.parse.urlencode(params).replace('%2520', '%20')\n",
    "    data= requests.get(url).json()\n",
    "    if data['response']['status']=='ok':\n",
    "        return data"
   ]
  },
  {
   "cell_type": "code",
   "execution_count": 43,
   "metadata": {},
   "outputs": [
    {
     "name": "stdout",
     "output_type": "stream",
     "text": [
      "Number of results: 1899\n",
      "Number of pages: 190\n"
     ]
    }
   ],
   "source": [
    "fullData = extractData(parameters,main_url)\n",
    "\n",
    "numberofResults= fullData['response']['total']\n",
    "numberofPages= fullData['response']['pages']\n",
    "print('Number of results: {}'.format(numberofResults))\n",
    "print('Number of pages: {}'.format(numberofPages))"
   ]
  },
  {
   "cell_type": "code",
   "execution_count": 44,
   "metadata": {},
   "outputs": [],
   "source": [
    "def appendfullData(params, numPages, fullData):\n",
    "    for currentpage in range(2, numPages+1):\n",
    "        parameters['page']= currentpage\n",
    "        currentData = extractData(parameters,main_url)\n",
    "        if currentData['response']['results'] is not None:\n",
    "            fullData['response']['results'].extend(currentData['response']['results'])\n",
    "        else:\n",
    "            continue"
   ]
  },
  {
   "cell_type": "code",
   "execution_count": 45,
   "metadata": {},
   "outputs": [],
   "source": [
    "appendfullData(parameters, numberofPages, fullData)"
   ]
  },
  {
   "cell_type": "code",
   "execution_count": 89,
   "metadata": {},
   "outputs": [],
   "source": [
    "def getTableofData(data):\n",
    "    i=1\n",
    "    outputDict= {}\n",
    "    for results in data['response']['results']:\n",
    "        if results['webPublicationDate'] is not None and results['type'] is not None and results['sectionName'] is not None:\n",
    "            temp1=str(results['webPublicationDate'])\n",
    "            temp2=str(results['type'])\n",
    "            temp3=str(results['sectionName'])\n",
    "            temp4=str(results[\"webUrl\"])\n",
    "            temp5=str(results[\"sectionId\"])\n",
    "            temp6=str(results[\"id\"])\n",
    "            if i==1:\n",
    "                outputDict= {'dateandType': [[temp1,temp2,temp3,temp4,temp5,temp6]]}\n",
    "            else:\n",
    "                outputDict['dateandType'].append([temp1,temp2,temp3,temp4,temp5,temp6])\n",
    "            i=i+1\n",
    "    \n",
    "    labels = ['Date', 'Type', 'section','webUrl','sectionId','id']\n",
    "    dataSubset=pd.DataFrame.from_records(outputDict['dateandType'], columns=labels)\n",
    "    \n",
    "    return dataSubset"
   ]
  },
  {
   "cell_type": "code",
   "execution_count": 90,
   "metadata": {},
   "outputs": [],
   "source": [
    "filteredData = getTableofData(fullData)"
   ]
  },
  {
   "cell_type": "code",
   "execution_count": 93,
   "metadata": {},
   "outputs": [],
   "source": [
    "def convertDatefield(data):\n",
    "    data = data.apply(lambda x: x[0:10])\n",
    "    data = pd.to_datetime(data)\n",
    "    return data"
   ]
  },
  {
   "cell_type": "code",
   "execution_count": 94,
   "metadata": {},
   "outputs": [],
   "source": [
    "filteredData['Date'] = convertDatefield(filteredData['Date'])"
   ]
  },
  {
   "cell_type": "code",
   "execution_count": 95,
   "metadata": {},
   "outputs": [
    {
     "data": {
      "text/html": [
       "<div>\n",
       "<style scoped>\n",
       "    .dataframe tbody tr th:only-of-type {\n",
       "        vertical-align: middle;\n",
       "    }\n",
       "\n",
       "    .dataframe tbody tr th {\n",
       "        vertical-align: top;\n",
       "    }\n",
       "\n",
       "    .dataframe thead th {\n",
       "        text-align: right;\n",
       "    }\n",
       "</style>\n",
       "<table border=\"1\" class=\"dataframe\">\n",
       "  <thead>\n",
       "    <tr style=\"text-align: right;\">\n",
       "      <th></th>\n",
       "      <th>Date</th>\n",
       "      <th>Type</th>\n",
       "      <th>section</th>\n",
       "      <th>webUrl</th>\n",
       "      <th>sectionId</th>\n",
       "      <th>id</th>\n",
       "    </tr>\n",
       "  </thead>\n",
       "  <tbody>\n",
       "    <tr>\n",
       "      <th>0</th>\n",
       "      <td>2023-02-08</td>\n",
       "      <td>article</td>\n",
       "      <td>World news</td>\n",
       "      <td>https://www.theguardian.com/world/2023/feb/08/...</td>\n",
       "      <td>world</td>\n",
       "      <td>world/2023/feb/08/canadas-justin-trudeau-greet...</td>\n",
       "    </tr>\n",
       "    <tr>\n",
       "      <th>1</th>\n",
       "      <td>2023-03-07</td>\n",
       "      <td>article</td>\n",
       "      <td>World news</td>\n",
       "      <td>https://www.theguardian.com/world/2023/mar/07/...</td>\n",
       "      <td>world</td>\n",
       "      <td>world/2023/mar/07/canada-pm-justin-trudeau-spe...</td>\n",
       "    </tr>\n",
       "    <tr>\n",
       "      <th>2</th>\n",
       "      <td>2022-12-08</td>\n",
       "      <td>article</td>\n",
       "      <td>World news</td>\n",
       "      <td>https://www.theguardian.com/world/2022/dec/08/...</td>\n",
       "      <td>world</td>\n",
       "      <td>world/2022/dec/08/sovereignty-act-passed-alber...</td>\n",
       "    </tr>\n",
       "    <tr>\n",
       "      <th>3</th>\n",
       "      <td>2023-03-24</td>\n",
       "      <td>article</td>\n",
       "      <td>World news</td>\n",
       "      <td>https://www.theguardian.com/world/2023/mar/24/...</td>\n",
       "      <td>world</td>\n",
       "      <td>world/2023/mar/24/trudeau-biden-asylum-border-...</td>\n",
       "    </tr>\n",
       "    <tr>\n",
       "      <th>4</th>\n",
       "      <td>2022-11-02</td>\n",
       "      <td>article</td>\n",
       "      <td>Television &amp; radio</td>\n",
       "      <td>https://www.theguardian.com/tv-and-radio/2022/...</td>\n",
       "      <td>tv-and-radio</td>\n",
       "      <td>tv-and-radio/2022/nov/02/drugs-impotence-and-p...</td>\n",
       "    </tr>\n",
       "    <tr>\n",
       "      <th>...</th>\n",
       "      <td>...</td>\n",
       "      <td>...</td>\n",
       "      <td>...</td>\n",
       "      <td>...</td>\n",
       "      <td>...</td>\n",
       "      <td>...</td>\n",
       "    </tr>\n",
       "    <tr>\n",
       "      <th>1894</th>\n",
       "      <td>2016-11-10</td>\n",
       "      <td>liveblog</td>\n",
       "      <td>US news</td>\n",
       "      <td>https://www.theguardian.com/us-news/live/2016/...</td>\n",
       "      <td>us-news</td>\n",
       "      <td>us-news/live/2016/nov/09/donald-trump-us-elect...</td>\n",
       "    </tr>\n",
       "    <tr>\n",
       "      <th>1895</th>\n",
       "      <td>2016-05-12</td>\n",
       "      <td>liveblog</td>\n",
       "      <td>Australia news</td>\n",
       "      <td>https://www.theguardian.com/australia-news/liv...</td>\n",
       "      <td>australia-news</td>\n",
       "      <td>australia-news/live/2016/may/12/australian-ele...</td>\n",
       "    </tr>\n",
       "    <tr>\n",
       "      <th>1896</th>\n",
       "      <td>2016-07-13</td>\n",
       "      <td>liveblog</td>\n",
       "      <td>Politics</td>\n",
       "      <td>https://www.theguardian.com/politics/blog/live...</td>\n",
       "      <td>politics</td>\n",
       "      <td>politics/blog/live/2016/jul/13/pmqs-cameron-ma...</td>\n",
       "    </tr>\n",
       "    <tr>\n",
       "      <th>1897</th>\n",
       "      <td>2016-06-17</td>\n",
       "      <td>liveblog</td>\n",
       "      <td>UK news</td>\n",
       "      <td>https://www.theguardian.com/politics/live/2016...</td>\n",
       "      <td>uk-news</td>\n",
       "      <td>politics/live/2016/jun/16/eu-referendum-live-o...</td>\n",
       "    </tr>\n",
       "    <tr>\n",
       "      <th>1898</th>\n",
       "      <td>2016-07-16</td>\n",
       "      <td>liveblog</td>\n",
       "      <td>World news</td>\n",
       "      <td>https://www.theguardian.com/world/live/2016/ju...</td>\n",
       "      <td>world</td>\n",
       "      <td>world/live/2016/jul/15/turkey-coup-attempt-mil...</td>\n",
       "    </tr>\n",
       "  </tbody>\n",
       "</table>\n",
       "<p>1899 rows × 6 columns</p>\n",
       "</div>"
      ],
      "text/plain": [
       "           Date      Type             section  \\\n",
       "0    2023-02-08   article          World news   \n",
       "1    2023-03-07   article          World news   \n",
       "2    2022-12-08   article          World news   \n",
       "3    2023-03-24   article          World news   \n",
       "4    2022-11-02   article  Television & radio   \n",
       "...         ...       ...                 ...   \n",
       "1894 2016-11-10  liveblog             US news   \n",
       "1895 2016-05-12  liveblog      Australia news   \n",
       "1896 2016-07-13  liveblog            Politics   \n",
       "1897 2016-06-17  liveblog             UK news   \n",
       "1898 2016-07-16  liveblog          World news   \n",
       "\n",
       "                                                 webUrl       sectionId  \\\n",
       "0     https://www.theguardian.com/world/2023/feb/08/...           world   \n",
       "1     https://www.theguardian.com/world/2023/mar/07/...           world   \n",
       "2     https://www.theguardian.com/world/2022/dec/08/...           world   \n",
       "3     https://www.theguardian.com/world/2023/mar/24/...           world   \n",
       "4     https://www.theguardian.com/tv-and-radio/2022/...    tv-and-radio   \n",
       "...                                                 ...             ...   \n",
       "1894  https://www.theguardian.com/us-news/live/2016/...         us-news   \n",
       "1895  https://www.theguardian.com/australia-news/liv...  australia-news   \n",
       "1896  https://www.theguardian.com/politics/blog/live...        politics   \n",
       "1897  https://www.theguardian.com/politics/live/2016...         uk-news   \n",
       "1898  https://www.theguardian.com/world/live/2016/ju...           world   \n",
       "\n",
       "                                                     id  \n",
       "0     world/2023/feb/08/canadas-justin-trudeau-greet...  \n",
       "1     world/2023/mar/07/canada-pm-justin-trudeau-spe...  \n",
       "2     world/2022/dec/08/sovereignty-act-passed-alber...  \n",
       "3     world/2023/mar/24/trudeau-biden-asylum-border-...  \n",
       "4     tv-and-radio/2022/nov/02/drugs-impotence-and-p...  \n",
       "...                                                 ...  \n",
       "1894  us-news/live/2016/nov/09/donald-trump-us-elect...  \n",
       "1895  australia-news/live/2016/may/12/australian-ele...  \n",
       "1896  politics/blog/live/2016/jul/13/pmqs-cameron-ma...  \n",
       "1897  politics/live/2016/jun/16/eu-referendum-live-o...  \n",
       "1898  world/live/2016/jul/15/turkey-coup-attempt-mil...  \n",
       "\n",
       "[1899 rows x 6 columns]"
      ]
     },
     "execution_count": 95,
     "metadata": {},
     "output_type": "execute_result"
    }
   ],
   "source": [
    "filteredData"
   ]
  },
  {
   "attachments": {},
   "cell_type": "markdown",
   "metadata": {},
   "source": [
    "# **2. Save the result as a file in the local folder**"
   ]
  },
  {
   "cell_type": "code",
   "execution_count": 92,
   "metadata": {},
   "outputs": [],
   "source": [
    "filteredData.to_csv(r\"C:\\Users\\Lion\\Desktop\\Test.csv\",sep=\",\")"
   ]
  },
  {
   "attachments": {},
   "cell_type": "markdown",
   "metadata": {},
   "source": [
    "# **3.Read the file and import it into the database using “Bulk Insert”**"
   ]
  },
  {
   "cell_type": "code",
   "execution_count": null,
   "metadata": {},
   "outputs": [],
   "source": []
  }
 ],
 "metadata": {
  "kernelspec": {
   "display_name": "VSC",
   "language": "python",
   "name": "python3"
  },
  "language_info": {
   "codemirror_mode": {
    "name": "ipython",
    "version": 3
   },
   "file_extension": ".py",
   "mimetype": "text/x-python",
   "name": "python",
   "nbconvert_exporter": "python",
   "pygments_lexer": "ipython3",
   "version": "3.10.6"
  },
  "orig_nbformat": 4
 },
 "nbformat": 4,
 "nbformat_minor": 2
}
