{
 "cells": [
  {
   "cell_type": "code",
   "execution_count": 39,
   "metadata": {},
   "outputs": [],
   "source": [
    "import pandas as pd\n",
    "import requests\n",
    "import datetime\n",
    "import urllib.parse\n",
    "from datetime import datetime\n",
    "from datetime import timedelta"
   ]
  },
  {
   "cell_type": "code",
   "execution_count": 42,
   "metadata": {},
   "outputs": [],
   "source": [
    "parameters={\n",
    "    'from-date' : '2016-01-01',\n",
    "    'to-date' : str(datetime.today())[:10],\n",
    "    'q' : 'Justin%20AND%20Trudeau%20OR%20JustinTrudeau',\n",
    "    'format' : 'json',\n",
    "    'page' : 1,\n",
    "    'page-size' : 10,\n",
    "    'api-key' : \"3a6cb1a7-fb92-4191-b819-fd230c164b43\"\n",
    "}\n",
    "\n",
    "main_url='https://content.guardianapis.com/search?'\n",
    "\n",
    "\n",
    "\n",
    "def extractData(params, main_urladdress):\n",
    "    url=main_urladdress+ urllib.parse.urlencode(params).replace('%2520', '%20')\n",
    "    data= requests.get(url).json()\n",
    "    if data['response']['status']=='ok':\n",
    "        return data"
   ]
  },
  {
   "cell_type": "code",
   "execution_count": 43,
   "metadata": {},
   "outputs": [
    {
     "name": "stdout",
     "output_type": "stream",
     "text": [
      "Number of results: 1899\n",
      "Number of pages: 190\n"
     ]
    }
   ],
   "source": [
    "fullData = extractData(parameters,main_url)\n",
    "\n",
    "numberofResults= fullData['response']['total']\n",
    "numberofPages= fullData['response']['pages']\n",
    "print('Number of results: {}'.format(numberofResults))\n",
    "print('Number of pages: {}'.format(numberofPages))"
   ]
  },
  {
   "cell_type": "code",
   "execution_count": 44,
   "metadata": {},
   "outputs": [],
   "source": [
    "def appendfullData(params, numPages, fullData):\n",
    "    for currentpage in range(2, numPages+1):\n",
    "        parameters['page']= currentpage\n",
    "        currentData = extractData(parameters,main_url)\n",
    "        if currentData['response']['results'] is not None:\n",
    "            fullData['response']['results'].extend(currentData['response']['results'])\n",
    "        else:\n",
    "            continue"
   ]
  },
  {
   "cell_type": "code",
   "execution_count": 45,
   "metadata": {},
   "outputs": [],
   "source": [
    "appendfullData(parameters, numberofPages, fullData)"
   ]
  },
  {
   "cell_type": "code",
   "execution_count": 71,
   "metadata": {},
   "outputs": [],
   "source": [
    "def getTableofData(data):\n",
    "    i=1\n",
    "    outputDict= {}\n",
    "    for results in data['response']['results']:\n",
    "        if results['webPublicationDate'] is not None and results['type'] is not None and results['sectionName'] is not None:\n",
    "            temp1=str(results['webPublicationDate'])\n",
    "            temp2=str(results['type'])\n",
    "            temp3=str(results['sectionName'])\n",
    "            temp4=str(results[\"webUrl\"])\n",
    "            if i==1:\n",
    "                outputDict= {'dateandType': [[temp1,temp2,temp3,temp4]]}\n",
    "            else:\n",
    "                outputDict['dateandType'].append([temp1,temp2,temp3,temp4])\n",
    "            i=i+1\n",
    "    \n",
    "    labels = ['Date', 'Type', 'section','webUrl']\n",
    "    dataSubset=pd.DataFrame.from_records(outputDict['dateandType'], columns=labels)\n",
    "    \n",
    "    return dataSubset"
   ]
  },
  {
   "cell_type": "code",
   "execution_count": 72,
   "metadata": {},
   "outputs": [],
   "source": [
    "filteredData = getTableofData(fullData)"
   ]
  },
  {
   "cell_type": "code",
   "execution_count": 80,
   "metadata": {},
   "outputs": [
    {
     "data": {
      "text/html": [
       "<div>\n",
       "<style scoped>\n",
       "    .dataframe tbody tr th:only-of-type {\n",
       "        vertical-align: middle;\n",
       "    }\n",
       "\n",
       "    .dataframe tbody tr th {\n",
       "        vertical-align: top;\n",
       "    }\n",
       "\n",
       "    .dataframe thead th {\n",
       "        text-align: right;\n",
       "    }\n",
       "</style>\n",
       "<table border=\"1\" class=\"dataframe\">\n",
       "  <thead>\n",
       "    <tr style=\"text-align: right;\">\n",
       "      <th></th>\n",
       "      <th>Date</th>\n",
       "      <th>Type</th>\n",
       "      <th>section</th>\n",
       "      <th>webUrl</th>\n",
       "    </tr>\n",
       "  </thead>\n",
       "  <tbody>\n",
       "    <tr>\n",
       "      <th>0</th>\n",
       "      <td>2023-02-08</td>\n",
       "      <td>article</td>\n",
       "      <td>World news</td>\n",
       "      <td>https://www.theguardian.com/world/2023/feb/08/...</td>\n",
       "    </tr>\n",
       "    <tr>\n",
       "      <th>1</th>\n",
       "      <td>2023-03-07</td>\n",
       "      <td>article</td>\n",
       "      <td>World news</td>\n",
       "      <td>https://www.theguardian.com/world/2023/mar/07/...</td>\n",
       "    </tr>\n",
       "    <tr>\n",
       "      <th>2</th>\n",
       "      <td>2022-12-08</td>\n",
       "      <td>article</td>\n",
       "      <td>World news</td>\n",
       "      <td>https://www.theguardian.com/world/2022/dec/08/...</td>\n",
       "    </tr>\n",
       "    <tr>\n",
       "      <th>3</th>\n",
       "      <td>2023-03-24</td>\n",
       "      <td>article</td>\n",
       "      <td>World news</td>\n",
       "      <td>https://www.theguardian.com/world/2023/mar/24/...</td>\n",
       "    </tr>\n",
       "    <tr>\n",
       "      <th>4</th>\n",
       "      <td>2022-11-02</td>\n",
       "      <td>article</td>\n",
       "      <td>Television &amp; radio</td>\n",
       "      <td>https://www.theguardian.com/tv-and-radio/2022/...</td>\n",
       "    </tr>\n",
       "    <tr>\n",
       "      <th>...</th>\n",
       "      <td>...</td>\n",
       "      <td>...</td>\n",
       "      <td>...</td>\n",
       "      <td>...</td>\n",
       "    </tr>\n",
       "    <tr>\n",
       "      <th>1894</th>\n",
       "      <td>2016-11-10</td>\n",
       "      <td>liveblog</td>\n",
       "      <td>US news</td>\n",
       "      <td>https://www.theguardian.com/us-news/live/2016/...</td>\n",
       "    </tr>\n",
       "    <tr>\n",
       "      <th>1895</th>\n",
       "      <td>2016-05-12</td>\n",
       "      <td>liveblog</td>\n",
       "      <td>Australia news</td>\n",
       "      <td>https://www.theguardian.com/australia-news/liv...</td>\n",
       "    </tr>\n",
       "    <tr>\n",
       "      <th>1896</th>\n",
       "      <td>2016-07-13</td>\n",
       "      <td>liveblog</td>\n",
       "      <td>Politics</td>\n",
       "      <td>https://www.theguardian.com/politics/blog/live...</td>\n",
       "    </tr>\n",
       "    <tr>\n",
       "      <th>1897</th>\n",
       "      <td>2016-06-17</td>\n",
       "      <td>liveblog</td>\n",
       "      <td>UK news</td>\n",
       "      <td>https://www.theguardian.com/politics/live/2016...</td>\n",
       "    </tr>\n",
       "    <tr>\n",
       "      <th>1898</th>\n",
       "      <td>2016-07-16</td>\n",
       "      <td>liveblog</td>\n",
       "      <td>World news</td>\n",
       "      <td>https://www.theguardian.com/world/live/2016/ju...</td>\n",
       "    </tr>\n",
       "  </tbody>\n",
       "</table>\n",
       "<p>1899 rows × 4 columns</p>\n",
       "</div>"
      ],
      "text/plain": [
       "           Date      Type             section  \\\n",
       "0    2023-02-08   article          World news   \n",
       "1    2023-03-07   article          World news   \n",
       "2    2022-12-08   article          World news   \n",
       "3    2023-03-24   article          World news   \n",
       "4    2022-11-02   article  Television & radio   \n",
       "...         ...       ...                 ...   \n",
       "1894 2016-11-10  liveblog             US news   \n",
       "1895 2016-05-12  liveblog      Australia news   \n",
       "1896 2016-07-13  liveblog            Politics   \n",
       "1897 2016-06-17  liveblog             UK news   \n",
       "1898 2016-07-16  liveblog          World news   \n",
       "\n",
       "                                                 webUrl  \n",
       "0     https://www.theguardian.com/world/2023/feb/08/...  \n",
       "1     https://www.theguardian.com/world/2023/mar/07/...  \n",
       "2     https://www.theguardian.com/world/2022/dec/08/...  \n",
       "3     https://www.theguardian.com/world/2023/mar/24/...  \n",
       "4     https://www.theguardian.com/tv-and-radio/2022/...  \n",
       "...                                                 ...  \n",
       "1894  https://www.theguardian.com/us-news/live/2016/...  \n",
       "1895  https://www.theguardian.com/australia-news/liv...  \n",
       "1896  https://www.theguardian.com/politics/blog/live...  \n",
       "1897  https://www.theguardian.com/politics/live/2016...  \n",
       "1898  https://www.theguardian.com/world/live/2016/ju...  \n",
       "\n",
       "[1899 rows x 4 columns]"
      ]
     },
     "execution_count": 80,
     "metadata": {},
     "output_type": "execute_result"
    }
   ],
   "source": [
    "filteredData"
   ]
  }
 ],
 "metadata": {
  "kernelspec": {
   "display_name": "VSC",
   "language": "python",
   "name": "python3"
  },
  "language_info": {
   "codemirror_mode": {
    "name": "ipython",
    "version": 3
   },
   "file_extension": ".py",
   "mimetype": "text/x-python",
   "name": "python",
   "nbconvert_exporter": "python",
   "pygments_lexer": "ipython3",
   "version": "3.10.6"
  },
  "orig_nbformat": 4
 },
 "nbformat": 4,
 "nbformat_minor": 2
}
