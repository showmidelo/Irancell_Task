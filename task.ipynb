{
 "cells": [
  {
   "attachments": {},
   "cell_type": "markdown",
   "metadata": {},
   "source": [
    "# **1. Extract information about Justin Trudeau for sysdate-1**"
   ]
  },
  {
   "cell_type": "code",
   "execution_count": 1,
   "metadata": {},
   "outputs": [],
   "source": [
    "import pandas as pd\n",
    "import requests\n",
    "import datetime\n",
    "import urllib.parse\n",
    "from datetime import datetime\n",
    "import pyodbc"
   ]
  },
  {
   "attachments": {},
   "cell_type": "markdown",
   "metadata": {},
   "source": [
    "# **5. Create a log file to check if any issue happened during the process**"
   ]
  },
  {
   "cell_type": "code",
   "execution_count": 2,
   "metadata": {},
   "outputs": [],
   "source": [
    "import logging\n",
    "\n",
    "logging.basicConfig(filename=r\"C:\\Users\\Lion\\Desktop\\scraper.log\",level=logging.DEBUG, format = '%(asctime)s - %(message)s',datefmt='%d-%b-%y %H:%M:%S')"
   ]
  },
  {
   "cell_type": "code",
   "execution_count": 3,
   "metadata": {},
   "outputs": [],
   "source": [
    "logging.info(\"Extracting information about Justin Trudeau for sysdate-1\")\n",
    "\n",
    "# define parameters for our request to guardian api for sysdate-1\n",
    "parameters={\n",
    "    'from-date' : '2016-01-01',\n",
    "    'to-date' : str(datetime.today())[:10],\n",
    "    'q' : 'Justin%20AND%20Trudeau%20OR%20JustinTrudeau',\n",
    "    'format' : 'json',\n",
    "    'page' : 1,\n",
    "    'page-size' : 10,\n",
    "    'api-key' : \"your api key\"\n",
    "            }\n",
    "\n",
    "# add parameters to the main link \n",
    "main_url='https://content.guardianapis.com/search?'\n",
    "url=main_url+ urllib.parse.urlencode(parameters).replace('%2520', '%20')\n",
    "data= requests.get(url).json()"
   ]
  },
  {
   "cell_type": "code",
   "execution_count": 4,
   "metadata": {},
   "outputs": [],
   "source": [
    "# extract result of our responses and add them to a list to make a dataframe later\n",
    "my_data = []\n",
    "for page in range(200):\n",
    "    response = requests.get(url)\n",
    "    data = response.json()\n",
    "    my_data.extend(data['response']['results'])\n",
    "    page = page + 1"
   ]
  },
  {
   "cell_type": "code",
   "execution_count": 69,
   "metadata": {},
   "outputs": [
    {
     "data": {
      "text/html": [
       "<div>\n",
       "<style scoped>\n",
       "    .dataframe tbody tr th:only-of-type {\n",
       "        vertical-align: middle;\n",
       "    }\n",
       "\n",
       "    .dataframe tbody tr th {\n",
       "        vertical-align: top;\n",
       "    }\n",
       "\n",
       "    .dataframe thead th {\n",
       "        text-align: right;\n",
       "    }\n",
       "</style>\n",
       "<table border=\"1\" class=\"dataframe\">\n",
       "  <thead>\n",
       "    <tr style=\"text-align: right;\">\n",
       "      <th></th>\n",
       "      <th>id</th>\n",
       "      <th>type</th>\n",
       "      <th>sectionId</th>\n",
       "      <th>sectionName</th>\n",
       "      <th>webPublicationDate</th>\n",
       "      <th>webTitle</th>\n",
       "      <th>webUrl</th>\n",
       "      <th>apiUrl</th>\n",
       "      <th>isHosted</th>\n",
       "      <th>pillarId</th>\n",
       "      <th>pillarName</th>\n",
       "    </tr>\n",
       "  </thead>\n",
       "  <tbody>\n",
       "    <tr>\n",
       "      <th>0</th>\n",
       "      <td>world/2023/feb/08/canadas-justin-trudeau-greet...</td>\n",
       "      <td>article</td>\n",
       "      <td>world</td>\n",
       "      <td>World news</td>\n",
       "      <td>2023-02-08T01:13:46Z</td>\n",
       "      <td>Canada’s Justin Trudeau greets political oppon...</td>\n",
       "      <td>https://www.theguardian.com/world/2023/feb/08/...</td>\n",
       "      <td>https://content.guardianapis.com/world/2023/fe...</td>\n",
       "      <td>False</td>\n",
       "      <td>pillar/news</td>\n",
       "      <td>News</td>\n",
       "    </tr>\n",
       "    <tr>\n",
       "      <th>1</th>\n",
       "      <td>world/2023/mar/07/canada-pm-justin-trudeau-spe...</td>\n",
       "      <td>article</td>\n",
       "      <td>world</td>\n",
       "      <td>World news</td>\n",
       "      <td>2023-03-07T00:18:42Z</td>\n",
       "      <td>Justin Trudeau to appoint special rapporteur t...</td>\n",
       "      <td>https://www.theguardian.com/world/2023/mar/07/...</td>\n",
       "      <td>https://content.guardianapis.com/world/2023/ma...</td>\n",
       "      <td>False</td>\n",
       "      <td>pillar/news</td>\n",
       "      <td>News</td>\n",
       "    </tr>\n",
       "    <tr>\n",
       "      <th>2</th>\n",
       "      <td>world/2022/dec/08/sovereignty-act-passed-alber...</td>\n",
       "      <td>article</td>\n",
       "      <td>world</td>\n",
       "      <td>World news</td>\n",
       "      <td>2022-12-08T16:53:29Z</td>\n",
       "      <td>Alberta ‘sovereignty act’ sets province on col...</td>\n",
       "      <td>https://www.theguardian.com/world/2022/dec/08/...</td>\n",
       "      <td>https://content.guardianapis.com/world/2022/de...</td>\n",
       "      <td>False</td>\n",
       "      <td>pillar/news</td>\n",
       "      <td>News</td>\n",
       "    </tr>\n",
       "    <tr>\n",
       "      <th>3</th>\n",
       "      <td>world/2023/mar/24/trudeau-biden-asylum-border-...</td>\n",
       "      <td>article</td>\n",
       "      <td>world</td>\n",
       "      <td>World news</td>\n",
       "      <td>2023-03-24T21:41:14Z</td>\n",
       "      <td>Trudeau to announce US-Canada asylum deal afte...</td>\n",
       "      <td>https://www.theguardian.com/world/2023/mar/24/...</td>\n",
       "      <td>https://content.guardianapis.com/world/2023/ma...</td>\n",
       "      <td>False</td>\n",
       "      <td>pillar/news</td>\n",
       "      <td>News</td>\n",
       "    </tr>\n",
       "    <tr>\n",
       "      <th>4</th>\n",
       "      <td>tv-and-radio/2022/nov/02/drugs-impotence-and-p...</td>\n",
       "      <td>article</td>\n",
       "      <td>tv-and-radio</td>\n",
       "      <td>Television &amp; radio</td>\n",
       "      <td>2022-11-02T17:57:23Z</td>\n",
       "      <td>Drugs, impotence and punching Justin Trudeau: ...</td>\n",
       "      <td>https://www.theguardian.com/tv-and-radio/2022/...</td>\n",
       "      <td>https://content.guardianapis.com/tv-and-radio/...</td>\n",
       "      <td>False</td>\n",
       "      <td>pillar/arts</td>\n",
       "      <td>Arts</td>\n",
       "    </tr>\n",
       "    <tr>\n",
       "      <th>...</th>\n",
       "      <td>...</td>\n",
       "      <td>...</td>\n",
       "      <td>...</td>\n",
       "      <td>...</td>\n",
       "      <td>...</td>\n",
       "      <td>...</td>\n",
       "      <td>...</td>\n",
       "      <td>...</td>\n",
       "      <td>...</td>\n",
       "      <td>...</td>\n",
       "      <td>...</td>\n",
       "    </tr>\n",
       "    <tr>\n",
       "      <th>1995</th>\n",
       "      <td>world/2023/mar/09/justin-trudeau-china-electio...</td>\n",
       "      <td>article</td>\n",
       "      <td>world</td>\n",
       "      <td>World news</td>\n",
       "      <td>2023-03-09T16:16:12Z</td>\n",
       "      <td>Trudeau faces fury of Canadian MPs over allege...</td>\n",
       "      <td>https://www.theguardian.com/world/2023/mar/09/...</td>\n",
       "      <td>https://content.guardianapis.com/world/2023/ma...</td>\n",
       "      <td>False</td>\n",
       "      <td>pillar/news</td>\n",
       "      <td>News</td>\n",
       "    </tr>\n",
       "    <tr>\n",
       "      <th>1996</th>\n",
       "      <td>world/2023/feb/11/new-unidentified-object-shot...</td>\n",
       "      <td>article</td>\n",
       "      <td>world</td>\n",
       "      <td>World news</td>\n",
       "      <td>2023-02-12T07:28:59Z</td>\n",
       "      <td>New ‘unidentified object’ shot down over Canad...</td>\n",
       "      <td>https://www.theguardian.com/world/2023/feb/11/...</td>\n",
       "      <td>https://content.guardianapis.com/world/2023/fe...</td>\n",
       "      <td>False</td>\n",
       "      <td>pillar/news</td>\n",
       "      <td>News</td>\n",
       "    </tr>\n",
       "    <tr>\n",
       "      <th>1997</th>\n",
       "      <td>world/2022/sep/08/canada-queen-elizabeth-death...</td>\n",
       "      <td>article</td>\n",
       "      <td>world</td>\n",
       "      <td>World news</td>\n",
       "      <td>2022-09-08T19:48:01Z</td>\n",
       "      <td>‘Canada is in mourning,’ says Justin Trudeau a...</td>\n",
       "      <td>https://www.theguardian.com/world/2022/sep/08/...</td>\n",
       "      <td>https://content.guardianapis.com/world/2022/se...</td>\n",
       "      <td>False</td>\n",
       "      <td>pillar/news</td>\n",
       "      <td>News</td>\n",
       "    </tr>\n",
       "    <tr>\n",
       "      <th>1998</th>\n",
       "      <td>world/2023/apr/28/canada-federal-workers-strik...</td>\n",
       "      <td>article</td>\n",
       "      <td>world</td>\n",
       "      <td>World news</td>\n",
       "      <td>2023-04-28T18:45:21Z</td>\n",
       "      <td>Federal workers tell Trudeau to step in to pay...</td>\n",
       "      <td>https://www.theguardian.com/world/2023/apr/28/...</td>\n",
       "      <td>https://content.guardianapis.com/world/2023/ap...</td>\n",
       "      <td>False</td>\n",
       "      <td>pillar/news</td>\n",
       "      <td>News</td>\n",
       "    </tr>\n",
       "    <tr>\n",
       "      <th>1999</th>\n",
       "      <td>environment/2022/dec/08/cop15-trudeau-pledges-...</td>\n",
       "      <td>article</td>\n",
       "      <td>environment</td>\n",
       "      <td>Environment</td>\n",
       "      <td>2022-12-08T12:15:00Z</td>\n",
       "      <td>Cop15: Trudeau pledges £510m for Indigenous-le...</td>\n",
       "      <td>https://www.theguardian.com/environment/2022/d...</td>\n",
       "      <td>https://content.guardianapis.com/environment/2...</td>\n",
       "      <td>False</td>\n",
       "      <td>pillar/news</td>\n",
       "      <td>News</td>\n",
       "    </tr>\n",
       "  </tbody>\n",
       "</table>\n",
       "<p>2000 rows × 11 columns</p>\n",
       "</div>"
      ],
      "text/plain": [
       "                                                     id     type  \\\n",
       "0     world/2023/feb/08/canadas-justin-trudeau-greet...  article   \n",
       "1     world/2023/mar/07/canada-pm-justin-trudeau-spe...  article   \n",
       "2     world/2022/dec/08/sovereignty-act-passed-alber...  article   \n",
       "3     world/2023/mar/24/trudeau-biden-asylum-border-...  article   \n",
       "4     tv-and-radio/2022/nov/02/drugs-impotence-and-p...  article   \n",
       "...                                                 ...      ...   \n",
       "1995  world/2023/mar/09/justin-trudeau-china-electio...  article   \n",
       "1996  world/2023/feb/11/new-unidentified-object-shot...  article   \n",
       "1997  world/2022/sep/08/canada-queen-elizabeth-death...  article   \n",
       "1998  world/2023/apr/28/canada-federal-workers-strik...  article   \n",
       "1999  environment/2022/dec/08/cop15-trudeau-pledges-...  article   \n",
       "\n",
       "         sectionId         sectionName    webPublicationDate  \\\n",
       "0            world          World news  2023-02-08T01:13:46Z   \n",
       "1            world          World news  2023-03-07T00:18:42Z   \n",
       "2            world          World news  2022-12-08T16:53:29Z   \n",
       "3            world          World news  2023-03-24T21:41:14Z   \n",
       "4     tv-and-radio  Television & radio  2022-11-02T17:57:23Z   \n",
       "...            ...                 ...                   ...   \n",
       "1995         world          World news  2023-03-09T16:16:12Z   \n",
       "1996         world          World news  2023-02-12T07:28:59Z   \n",
       "1997         world          World news  2022-09-08T19:48:01Z   \n",
       "1998         world          World news  2023-04-28T18:45:21Z   \n",
       "1999   environment         Environment  2022-12-08T12:15:00Z   \n",
       "\n",
       "                                               webTitle  \\\n",
       "0     Canada’s Justin Trudeau greets political oppon...   \n",
       "1     Justin Trudeau to appoint special rapporteur t...   \n",
       "2     Alberta ‘sovereignty act’ sets province on col...   \n",
       "3     Trudeau to announce US-Canada asylum deal afte...   \n",
       "4     Drugs, impotence and punching Justin Trudeau: ...   \n",
       "...                                                 ...   \n",
       "1995  Trudeau faces fury of Canadian MPs over allege...   \n",
       "1996  New ‘unidentified object’ shot down over Canad...   \n",
       "1997  ‘Canada is in mourning,’ says Justin Trudeau a...   \n",
       "1998  Federal workers tell Trudeau to step in to pay...   \n",
       "1999  Cop15: Trudeau pledges £510m for Indigenous-le...   \n",
       "\n",
       "                                                 webUrl  \\\n",
       "0     https://www.theguardian.com/world/2023/feb/08/...   \n",
       "1     https://www.theguardian.com/world/2023/mar/07/...   \n",
       "2     https://www.theguardian.com/world/2022/dec/08/...   \n",
       "3     https://www.theguardian.com/world/2023/mar/24/...   \n",
       "4     https://www.theguardian.com/tv-and-radio/2022/...   \n",
       "...                                                 ...   \n",
       "1995  https://www.theguardian.com/world/2023/mar/09/...   \n",
       "1996  https://www.theguardian.com/world/2023/feb/11/...   \n",
       "1997  https://www.theguardian.com/world/2022/sep/08/...   \n",
       "1998  https://www.theguardian.com/world/2023/apr/28/...   \n",
       "1999  https://www.theguardian.com/environment/2022/d...   \n",
       "\n",
       "                                                 apiUrl  isHosted  \\\n",
       "0     https://content.guardianapis.com/world/2023/fe...     False   \n",
       "1     https://content.guardianapis.com/world/2023/ma...     False   \n",
       "2     https://content.guardianapis.com/world/2022/de...     False   \n",
       "3     https://content.guardianapis.com/world/2023/ma...     False   \n",
       "4     https://content.guardianapis.com/tv-and-radio/...     False   \n",
       "...                                                 ...       ...   \n",
       "1995  https://content.guardianapis.com/world/2023/ma...     False   \n",
       "1996  https://content.guardianapis.com/world/2023/fe...     False   \n",
       "1997  https://content.guardianapis.com/world/2022/se...     False   \n",
       "1998  https://content.guardianapis.com/world/2023/ap...     False   \n",
       "1999  https://content.guardianapis.com/environment/2...     False   \n",
       "\n",
       "         pillarId pillarName  \n",
       "0     pillar/news       News  \n",
       "1     pillar/news       News  \n",
       "2     pillar/news       News  \n",
       "3     pillar/news       News  \n",
       "4     pillar/arts       Arts  \n",
       "...           ...        ...  \n",
       "1995  pillar/news       News  \n",
       "1996  pillar/news       News  \n",
       "1997  pillar/news       News  \n",
       "1998  pillar/news       News  \n",
       "1999  pillar/news       News  \n",
       "\n",
       "[2000 rows x 11 columns]"
      ]
     },
     "execution_count": 69,
     "metadata": {},
     "output_type": "execute_result"
    }
   ],
   "source": [
    "# just made a dataframe out of created list\n",
    "df = pd.DataFrame(my_data)\n",
    "logging.info(\"make a dataframe out of the json information we have exctracted\")\n",
    "df"
   ]
  },
  {
   "attachments": {},
   "cell_type": "markdown",
   "metadata": {},
   "source": [
    "# **2. Save the result as a file in the local folder**"
   ]
  },
  {
   "cell_type": "code",
   "execution_count": 71,
   "metadata": {},
   "outputs": [],
   "source": [
    "# save the dataframe to a local folder as a csv file\n",
    "df.to_csv(r\"C:\\Users\\Lion\\Desktop\\Test.csv\",sep=\",\")\n",
    "logging.info(\"save dataframe as a csv file in local folder to put it on the database\")"
   ]
  },
  {
   "attachments": {},
   "cell_type": "markdown",
   "metadata": {},
   "source": [
    "# **3.Read the file and import it into the database using “Bulk Insert”**"
   ]
  },
  {
   "attachments": {},
   "cell_type": "markdown",
   "metadata": {},
   "source": [
    "*we can import the csv file in database by our hand and then truncate the table to have just columns and then do the bulk inserting by below code*"
   ]
  },
  {
   "cell_type": "code",
   "execution_count": 72,
   "metadata": {},
   "outputs": [],
   "source": [
    "# Connect to SQL Server\n",
    "conn = pyodbc.connect('Driver={SQL Server};'\n",
    "                      'Server=OMID\\SQLEXPRESS;'\n",
    "                      'Database=AdventureWorks2012;'\n",
    "                      'Trusted_Connection=yes;')\n",
    "\n",
    "# Create a cursor object\n",
    "cursor = conn.cursor()\n",
    "\n",
    "\n",
    "# Execute the BULK INSERT command\n",
    "bulk_insert_query = \"BULK INSERT [AdventureWorks2012].[dbo].[irancell] FROM 'C:\\\\Users\\\\Lion\\\\Desktop\\\\Test.csv' WITH (FORMAT = 'CSV', FIRSTROW = 2)\"\n",
    "cursor.execute(bulk_insert_query)\n",
    "\n",
    "# Commit the transaction\n",
    "conn.commit()\n",
    "\n",
    "# Close the cursor and connection objects\n",
    "cursor.close()\n",
    "conn.close()\n",
    "logging.info(\"WE HAVE DONE IT SUCESSFULLY\")"
   ]
  },
  {
   "attachments": {},
   "cell_type": "markdown",
   "metadata": {},
   "source": [
    "*if the quantity of table's columns was low we can create a table by query in python script and then do the bulk insert.*"
   ]
  },
  {
   "cell_type": "code",
   "execution_count": 73,
   "metadata": {},
   "outputs": [],
   "source": [
    "# # Connect to SQL Server\n",
    "# conn = pyodbc.connect('Driver={SQL Server};'\n",
    "#                       'Server=OMID\\SQLEXPRESS;'\n",
    "#                       'Database=AdventureWorks2012;'\n",
    "#                       'Trusted_Connection=yes;')\n",
    "\n",
    "# # Create a cursor object\n",
    "# cursor = conn.cursor()\n",
    "\n",
    "\n",
    "# # Execute the BULK INSERT command\n",
    "# try:\n",
    "#     create_table_query = \"CREATE TABLE customers (name VARCHAR(255), address VARCHAR(255))\"\n",
    "#     bulk_insert_query = \"BULK INSERT [AdventureWorks2012].[dbo].[irancell] FROM 'C:\\\\Users\\\\Lion\\\\Desktop\\\\Test.csv' WITH (FORMAT = 'CSV', FIRSTROW = 2)\"\n",
    "#     cursor.execute(create_table_query)\n",
    "#     cursor.execute(bulk_insert_query)\n",
    "# # if the try raise an error the except would handle it, cause of error is the table have been created before so we just do the bulk insert\n",
    "# except:\n",
    "#     bulk_insert_query = \"BULK INSERT [AdventureWorks2012].[dbo].[irancell] FROM 'C:\\\\Users\\\\Lion\\\\Desktop\\\\Test.csv' WITH (FORMAT = 'CSV', FIRSTROW = 2)\"\n",
    "#     cursor.execute(bulk_insert_query)\n",
    "# # Commit the transaction\n",
    "# conn.commit()\n",
    "\n",
    "# # Close the cursor and connection objects\n",
    "# cursor.close()\n",
    "# conn.close()\n",
    "# logging.info(\"WE HAVE DONE IT SUCESSFULLY\")"
   ]
  },
  {
   "attachments": {},
   "cell_type": "markdown",
   "metadata": {},
   "source": [
    "# **4. Do require a cleansing process on the data**"
   ]
  },
  {
   "attachments": {},
   "cell_type": "markdown",
   "metadata": {},
   "source": [
    "*convert web publication date to datetime*"
   ]
  },
  {
   "cell_type": "code",
   "execution_count": 74,
   "metadata": {},
   "outputs": [],
   "source": [
    "df['webPublicationDate'] = pd.to_datetime(df['webPublicationDate'])"
   ]
  },
  {
   "attachments": {},
   "cell_type": "markdown",
   "metadata": {},
   "source": [
    "*check different section names*"
   ]
  },
  {
   "cell_type": "code",
   "execution_count": 75,
   "metadata": {},
   "outputs": [
    {
     "data": {
      "text/plain": [
       "sectionName\n",
       "Environment            200\n",
       "Television & radio     200\n",
       "World news            1600\n",
       "dtype: int64"
      ]
     },
     "execution_count": 75,
     "metadata": {},
     "output_type": "execute_result"
    }
   ],
   "source": [
    "df.groupby(df['sectionName']).size()"
   ]
  },
  {
   "cell_type": "code",
   "execution_count": 76,
   "metadata": {},
   "outputs": [
    {
     "data": {
      "text/plain": [
       "webPublicationDate\n",
       "2022-09-08 19:48:01+00:00    200\n",
       "2022-11-02 17:57:23+00:00    200\n",
       "2022-12-08 12:15:00+00:00    200\n",
       "2022-12-08 16:53:29+00:00    200\n",
       "2023-02-08 01:13:46+00:00    200\n",
       "2023-02-12 07:28:59+00:00    200\n",
       "2023-03-07 00:18:42+00:00    200\n",
       "2023-03-09 16:16:12+00:00    200\n",
       "2023-03-24 21:41:14+00:00    200\n",
       "2023-04-28 18:45:21+00:00    200\n",
       "dtype: int64"
      ]
     },
     "execution_count": 76,
     "metadata": {},
     "output_type": "execute_result"
    }
   ],
   "source": [
    "df.groupby(df['webPublicationDate']).size()"
   ]
  },
  {
   "cell_type": "code",
   "execution_count": 77,
   "metadata": {},
   "outputs": [
    {
     "data": {
      "text/html": [
       "<div>\n",
       "<style scoped>\n",
       "    .dataframe tbody tr th:only-of-type {\n",
       "        vertical-align: middle;\n",
       "    }\n",
       "\n",
       "    .dataframe tbody tr th {\n",
       "        vertical-align: top;\n",
       "    }\n",
       "\n",
       "    .dataframe thead th {\n",
       "        text-align: right;\n",
       "    }\n",
       "</style>\n",
       "<table border=\"1\" class=\"dataframe\">\n",
       "  <thead>\n",
       "    <tr style=\"text-align: right;\">\n",
       "      <th></th>\n",
       "      <th>id</th>\n",
       "      <th>type</th>\n",
       "      <th>sectionId</th>\n",
       "      <th>sectionName</th>\n",
       "      <th>webPublicationDate</th>\n",
       "      <th>webTitle</th>\n",
       "      <th>webUrl</th>\n",
       "      <th>apiUrl</th>\n",
       "      <th>isHosted</th>\n",
       "      <th>pillarId</th>\n",
       "      <th>pillarName</th>\n",
       "    </tr>\n",
       "  </thead>\n",
       "  <tbody>\n",
       "  </tbody>\n",
       "</table>\n",
       "</div>"
      ],
      "text/plain": [
       "Empty DataFrame\n",
       "Columns: [id, type, sectionId, sectionName, webPublicationDate, webTitle, webUrl, apiUrl, isHosted, pillarId, pillarName]\n",
       "Index: []"
      ]
     },
     "execution_count": 77,
     "metadata": {},
     "output_type": "execute_result"
    }
   ],
   "source": [
    "df[df[\"isHosted\"]==True]"
   ]
  },
  {
   "cell_type": "code",
   "execution_count": 78,
   "metadata": {},
   "outputs": [],
   "source": [
    "df = df.drop([\"isHosted\",\"apiUrl\"], axis=1)"
   ]
  },
  {
   "cell_type": "code",
   "execution_count": 88,
   "metadata": {},
   "outputs": [
    {
     "data": {
      "text/plain": [
       "id                    True\n",
       "type                  True\n",
       "sectionId             True\n",
       "sectionName           True\n",
       "webPublicationDate    True\n",
       "webTitle              True\n",
       "webUrl                True\n",
       "pillarId              True\n",
       "pillarName            True\n",
       "dtype: bool"
      ]
     },
     "execution_count": 88,
     "metadata": {},
     "output_type": "execute_result"
    }
   ],
   "source": [
    "df.count().notna()"
   ]
  },
  {
   "attachments": {},
   "cell_type": "markdown",
   "metadata": {},
   "source": [
    "# **How to schedule python script to run every day at an exact time**"
   ]
  },
  {
   "attachments": {},
   "cell_type": "markdown",
   "metadata": {},
   "source": [
    "# __*first step*__"
   ]
  },
  {
   "attachments": {},
   "cell_type": "markdown",
   "metadata": {},
   "source": [
    "![](https://github.com/showmidelo/Irancell_Task/blob/main/schedule%20pictures/1.jpg?raw=true)"
   ]
  },
  {
   "attachments": {},
   "cell_type": "markdown",
   "metadata": {},
   "source": [
    "# __*Second step*__"
   ]
  },
  {
   "attachments": {},
   "cell_type": "markdown",
   "metadata": {},
   "source": [
    "![](https://github.com/showmidelo/Irancell_Task/blob/main/schedule%20pictures/2.jpg?raw=true)"
   ]
  },
  {
   "attachments": {},
   "cell_type": "markdown",
   "metadata": {},
   "source": [
    "# __*Third step*__"
   ]
  },
  {
   "attachments": {},
   "cell_type": "markdown",
   "metadata": {},
   "source": [
    "![](https://github.com/showmidelo/Irancell_Task/blob/main/schedule%20pictures/3.jpg?raw=true)"
   ]
  },
  {
   "attachments": {},
   "cell_type": "markdown",
   "metadata": {},
   "source": [
    "# __*Fourth step*__"
   ]
  },
  {
   "attachments": {},
   "cell_type": "markdown",
   "metadata": {},
   "source": [
    "![](https://github.com/showmidelo/Irancell_Task/blob/main/schedule%20pictures/4.jpg?raw=true)"
   ]
  },
  {
   "cell_type": "markdown",
   "metadata": {},
   "source": []
  }
 ],
 "metadata": {
  "kernelspec": {
   "display_name": "VSC",
   "language": "python",
   "name": "python3"
  },
  "language_info": {
   "codemirror_mode": {
    "name": "ipython",
    "version": 3
   },
   "file_extension": ".py",
   "mimetype": "text/x-python",
   "name": "python",
   "nbconvert_exporter": "python",
   "pygments_lexer": "ipython3",
   "version": "3.10.6"
  },
  "orig_nbformat": 4
 },
 "nbformat": 4,
 "nbformat_minor": 2
}
