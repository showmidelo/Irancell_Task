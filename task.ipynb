{
 "cells": [
  {
   "attachments": {},
   "cell_type": "markdown",
   "metadata": {},
   "source": [
    "# **1. Extract information about Justin Trudeau for sysdate-1**"
   ]
  },
  {
   "cell_type": "code",
   "execution_count": 1,
   "metadata": {},
   "outputs": [],
   "source": [
    "import pandas as pd\n",
    "import requests\n",
    "import datetime\n",
    "import urllib.parse\n",
    "from datetime import datetime\n",
    "import pyodbc"
   ]
  },
  {
   "attachments": {},
   "cell_type": "markdown",
   "metadata": {},
   "source": [
    "# **5. Create a log file to check if any issue happened during the process**"
   ]
  },
  {
   "cell_type": "code",
   "execution_count": 9,
   "metadata": {},
   "outputs": [],
   "source": [
    "import logging\n",
    "\n",
    "logging.basicConfig(filename=r\"C:\\Users\\Lion\\Desktop\\scraper.log\",level=logging.DEBUG, format = '%(asctime)s - %(message)s',datefmt='%d-%b-%y %H:%M:%S')"
   ]
  },
  {
   "cell_type": "code",
   "execution_count": 3,
   "metadata": {},
   "outputs": [],
   "source": [
    "logging.info(\"Extracting information about Justin Trudeau for sysdate-1\")\n",
    "# define parameters for our request to guardian api for sysdate-1\n",
    "parameters={\n",
    "    'from-date' : '2020-01-01',\n",
    "    'to-date' : str(datetime.today())[:10],\n",
    "    'q' : 'Justin%20AND%20Trudeau%20OR%20JustinTrudeau',\n",
    "    'format' : 'json',\n",
    "    'page' : 1,\n",
    "    'page-size' : 10,\n",
    "    'api-key' : \"Your api key\"\n",
    "}\n",
    "\n",
    "main_url='https://content.guardianapis.com/search?'"
   ]
  },
  {
   "cell_type": "code",
   "execution_count": 4,
   "metadata": {},
   "outputs": [],
   "source": [
    "# checking request status and extract data\n",
    "def extractData(params, main_urladdress):\n",
    "    url=main_urladdress+ urllib.parse.urlencode(params).replace('%2520', '%20')\n",
    "    data= requests.get(url).json()\n",
    "    if data['response']['status']=='ok':\n",
    "        return data"
   ]
  },
  {
   "cell_type": "code",
   "execution_count": 5,
   "metadata": {},
   "outputs": [
    {
     "name": "stdout",
     "output_type": "stream",
     "text": [
      "Number of results: 892\n",
      "Number of pages: 90\n"
     ]
    }
   ],
   "source": [
    "fullData = extractData(parameters,main_url)\n",
    "\n",
    "numberofResults= fullData['response']['total']\n",
    "numberofPages= fullData['response']['pages']\n",
    "print('Number of results: {}'.format(numberofResults))\n",
    "print('Number of pages: {}'.format(numberofPages))"
   ]
  },
  {
   "cell_type": "code",
   "execution_count": 6,
   "metadata": {},
   "outputs": [],
   "source": [
    "def appendfullData(params, numPages, fullData):\n",
    "    for currentpage in range(2, numPages+1):\n",
    "        parameters['page']= currentpage\n",
    "        currentData = extractData(parameters,main_url)\n",
    "        if currentData['response']['results'] is not None:\n",
    "            fullData['response']['results'].extend(currentData['response']['results'])\n",
    "        else:\n",
    "            continue"
   ]
  },
  {
   "cell_type": "code",
   "execution_count": 7,
   "metadata": {},
   "outputs": [],
   "source": [
    "# extract result of our responses and add them to a list to make a dataframe later\n",
    "appendfullData(parameters, numberofPages, fullData)"
   ]
  },
  {
   "cell_type": "code",
   "execution_count": 8,
   "metadata": {},
   "outputs": [],
   "source": [
    "# just made a dataframe out of created list\n",
    "df = pd.DataFrame(fullData['response']['results'])\n",
    "logging.info(\"make a dataframe out of the json information we have exctracted\")"
   ]
  },
  {
   "cell_type": "code",
   "execution_count": 9,
   "metadata": {},
   "outputs": [],
   "source": [
    "df = df.drop([\"sectionId\",'apiUrl','isHosted','pillarId','pillarName'],axis=1)"
   ]
  },
  {
   "cell_type": "code",
   "execution_count": 10,
   "metadata": {},
   "outputs": [],
   "source": [
    "df['webPublicationDate'] = pd.to_datetime(df['webPublicationDate'])"
   ]
  },
  {
   "cell_type": "code",
   "execution_count": 11,
   "metadata": {},
   "outputs": [],
   "source": [
    "df.rename({\"webPublicationDate\":\"Date\"},axis=1,inplace=True)"
   ]
  },
  {
   "cell_type": "code",
   "execution_count": 12,
   "metadata": {},
   "outputs": [
    {
     "data": {
      "text/html": [
       "<div>\n",
       "<style scoped>\n",
       "    .dataframe tbody tr th:only-of-type {\n",
       "        vertical-align: middle;\n",
       "    }\n",
       "\n",
       "    .dataframe tbody tr th {\n",
       "        vertical-align: top;\n",
       "    }\n",
       "\n",
       "    .dataframe thead th {\n",
       "        text-align: right;\n",
       "    }\n",
       "</style>\n",
       "<table border=\"1\" class=\"dataframe\">\n",
       "  <thead>\n",
       "    <tr style=\"text-align: right;\">\n",
       "      <th></th>\n",
       "      <th>id</th>\n",
       "      <th>type</th>\n",
       "      <th>sectionName</th>\n",
       "      <th>Date</th>\n",
       "      <th>webTitle</th>\n",
       "      <th>webUrl</th>\n",
       "    </tr>\n",
       "  </thead>\n",
       "  <tbody>\n",
       "    <tr>\n",
       "      <th>0</th>\n",
       "      <td>world/2023/feb/08/canadas-justin-trudeau-greet...</td>\n",
       "      <td>article</td>\n",
       "      <td>World news</td>\n",
       "      <td>2023-02-08 01:13:46+00:00</td>\n",
       "      <td>Canada’s Justin Trudeau greets political oppon...</td>\n",
       "      <td>https://www.theguardian.com/world/2023/feb/08/...</td>\n",
       "    </tr>\n",
       "    <tr>\n",
       "      <th>1</th>\n",
       "      <td>world/2023/mar/07/canada-pm-justin-trudeau-spe...</td>\n",
       "      <td>article</td>\n",
       "      <td>World news</td>\n",
       "      <td>2023-03-07 00:18:42+00:00</td>\n",
       "      <td>Justin Trudeau to appoint special rapporteur t...</td>\n",
       "      <td>https://www.theguardian.com/world/2023/mar/07/...</td>\n",
       "    </tr>\n",
       "    <tr>\n",
       "      <th>2</th>\n",
       "      <td>world/2022/dec/08/sovereignty-act-passed-alber...</td>\n",
       "      <td>article</td>\n",
       "      <td>World news</td>\n",
       "      <td>2022-12-08 16:53:29+00:00</td>\n",
       "      <td>Alberta ‘sovereignty act’ sets province on col...</td>\n",
       "      <td>https://www.theguardian.com/world/2022/dec/08/...</td>\n",
       "    </tr>\n",
       "    <tr>\n",
       "      <th>3</th>\n",
       "      <td>world/2023/mar/24/trudeau-biden-asylum-border-...</td>\n",
       "      <td>article</td>\n",
       "      <td>World news</td>\n",
       "      <td>2023-03-24 21:41:14+00:00</td>\n",
       "      <td>Trudeau to announce US-Canada asylum deal afte...</td>\n",
       "      <td>https://www.theguardian.com/world/2023/mar/24/...</td>\n",
       "    </tr>\n",
       "    <tr>\n",
       "      <th>4</th>\n",
       "      <td>tv-and-radio/2022/nov/02/drugs-impotence-and-p...</td>\n",
       "      <td>article</td>\n",
       "      <td>Television &amp; radio</td>\n",
       "      <td>2022-11-02 17:57:23+00:00</td>\n",
       "      <td>Drugs, impotence and punching Justin Trudeau: ...</td>\n",
       "      <td>https://www.theguardian.com/tv-and-radio/2022/...</td>\n",
       "    </tr>\n",
       "    <tr>\n",
       "      <th>...</th>\n",
       "      <td>...</td>\n",
       "      <td>...</td>\n",
       "      <td>...</td>\n",
       "      <td>...</td>\n",
       "      <td>...</td>\n",
       "      <td>...</td>\n",
       "    </tr>\n",
       "    <tr>\n",
       "      <th>887</th>\n",
       "      <td>world/live/2020/may/26/coronavirus-live-news-c...</td>\n",
       "      <td>liveblog</td>\n",
       "      <td>World news</td>\n",
       "      <td>2020-05-27 00:03:15+00:00</td>\n",
       "      <td>Putin says Russia past peak of outbreak despit...</td>\n",
       "      <td>https://www.theguardian.com/world/live/2020/ma...</td>\n",
       "    </tr>\n",
       "    <tr>\n",
       "      <th>888</th>\n",
       "      <td>world/live/2020/apr/10/coronavirus-live-news-g...</td>\n",
       "      <td>liveblog</td>\n",
       "      <td>World news</td>\n",
       "      <td>2020-04-11 01:00:23+00:00</td>\n",
       "      <td>Confirmed worldwide Covid-19 death toll passes...</td>\n",
       "      <td>https://www.theguardian.com/world/live/2020/ap...</td>\n",
       "    </tr>\n",
       "    <tr>\n",
       "      <th>889</th>\n",
       "      <td>world/live/2020/apr/14/coronavirus-live-news-c...</td>\n",
       "      <td>liveblog</td>\n",
       "      <td>World news</td>\n",
       "      <td>2020-04-14 23:46:53+00:00</td>\n",
       "      <td>Italy sees lowest increase in Covid-19 infecti...</td>\n",
       "      <td>https://www.theguardian.com/world/live/2020/ap...</td>\n",
       "    </tr>\n",
       "    <tr>\n",
       "      <th>890</th>\n",
       "      <td>world/live/2020/may/12/coronavirus-live-news-d...</td>\n",
       "      <td>liveblog</td>\n",
       "      <td>World news</td>\n",
       "      <td>2020-05-12 23:33:59+00:00</td>\n",
       "      <td>Worldwide Covid-19 deaths pass 290,000 – as it...</td>\n",
       "      <td>https://www.theguardian.com/world/live/2020/ma...</td>\n",
       "    </tr>\n",
       "    <tr>\n",
       "      <th>891</th>\n",
       "      <td>world/live/2020/mar/15/coronavirus-latest-upda...</td>\n",
       "      <td>liveblog</td>\n",
       "      <td>World news</td>\n",
       "      <td>2020-03-16 00:26:20+00:00</td>\n",
       "      <td>US slashes interest rates as states go into lo...</td>\n",
       "      <td>https://www.theguardian.com/world/live/2020/ma...</td>\n",
       "    </tr>\n",
       "  </tbody>\n",
       "</table>\n",
       "<p>892 rows × 6 columns</p>\n",
       "</div>"
      ],
      "text/plain": [
       "                                                    id      type  \\\n",
       "0    world/2023/feb/08/canadas-justin-trudeau-greet...   article   \n",
       "1    world/2023/mar/07/canada-pm-justin-trudeau-spe...   article   \n",
       "2    world/2022/dec/08/sovereignty-act-passed-alber...   article   \n",
       "3    world/2023/mar/24/trudeau-biden-asylum-border-...   article   \n",
       "4    tv-and-radio/2022/nov/02/drugs-impotence-and-p...   article   \n",
       "..                                                 ...       ...   \n",
       "887  world/live/2020/may/26/coronavirus-live-news-c...  liveblog   \n",
       "888  world/live/2020/apr/10/coronavirus-live-news-g...  liveblog   \n",
       "889  world/live/2020/apr/14/coronavirus-live-news-c...  liveblog   \n",
       "890  world/live/2020/may/12/coronavirus-live-news-d...  liveblog   \n",
       "891  world/live/2020/mar/15/coronavirus-latest-upda...  liveblog   \n",
       "\n",
       "            sectionName                      Date  \\\n",
       "0            World news 2023-02-08 01:13:46+00:00   \n",
       "1            World news 2023-03-07 00:18:42+00:00   \n",
       "2            World news 2022-12-08 16:53:29+00:00   \n",
       "3            World news 2023-03-24 21:41:14+00:00   \n",
       "4    Television & radio 2022-11-02 17:57:23+00:00   \n",
       "..                  ...                       ...   \n",
       "887          World news 2020-05-27 00:03:15+00:00   \n",
       "888          World news 2020-04-11 01:00:23+00:00   \n",
       "889          World news 2020-04-14 23:46:53+00:00   \n",
       "890          World news 2020-05-12 23:33:59+00:00   \n",
       "891          World news 2020-03-16 00:26:20+00:00   \n",
       "\n",
       "                                              webTitle  \\\n",
       "0    Canada’s Justin Trudeau greets political oppon...   \n",
       "1    Justin Trudeau to appoint special rapporteur t...   \n",
       "2    Alberta ‘sovereignty act’ sets province on col...   \n",
       "3    Trudeau to announce US-Canada asylum deal afte...   \n",
       "4    Drugs, impotence and punching Justin Trudeau: ...   \n",
       "..                                                 ...   \n",
       "887  Putin says Russia past peak of outbreak despit...   \n",
       "888  Confirmed worldwide Covid-19 death toll passes...   \n",
       "889  Italy sees lowest increase in Covid-19 infecti...   \n",
       "890  Worldwide Covid-19 deaths pass 290,000 – as it...   \n",
       "891  US slashes interest rates as states go into lo...   \n",
       "\n",
       "                                                webUrl  \n",
       "0    https://www.theguardian.com/world/2023/feb/08/...  \n",
       "1    https://www.theguardian.com/world/2023/mar/07/...  \n",
       "2    https://www.theguardian.com/world/2022/dec/08/...  \n",
       "3    https://www.theguardian.com/world/2023/mar/24/...  \n",
       "4    https://www.theguardian.com/tv-and-radio/2022/...  \n",
       "..                                                 ...  \n",
       "887  https://www.theguardian.com/world/live/2020/ma...  \n",
       "888  https://www.theguardian.com/world/live/2020/ap...  \n",
       "889  https://www.theguardian.com/world/live/2020/ap...  \n",
       "890  https://www.theguardian.com/world/live/2020/ma...  \n",
       "891  https://www.theguardian.com/world/live/2020/ma...  \n",
       "\n",
       "[892 rows x 6 columns]"
      ]
     },
     "execution_count": 12,
     "metadata": {},
     "output_type": "execute_result"
    }
   ],
   "source": [
    "df"
   ]
  },
  {
   "attachments": {},
   "cell_type": "markdown",
   "metadata": {},
   "source": [
    "# **2. Save the result as a file in the local folder**"
   ]
  },
  {
   "cell_type": "code",
   "execution_count": 13,
   "metadata": {},
   "outputs": [],
   "source": [
    "# save the dataframe to a local folder as a csv file\n",
    "df.to_csv(r\"C:\\Users\\Lion\\Desktop\\Test.csv\",sep=\",\")\n",
    "logging.info(\"save dataframe as a csv file in local folder to put it on the database\")"
   ]
  },
  {
   "attachments": {},
   "cell_type": "markdown",
   "metadata": {},
   "source": [
    "# **3.Read the file and import it into the database using “Bulk Insert”**"
   ]
  },
  {
   "attachments": {},
   "cell_type": "markdown",
   "metadata": {},
   "source": [
    "*we can import the csv file in database by our hand and then truncate the table to have just columns and then do the bulk inserting by below code*"
   ]
  },
  {
   "cell_type": "code",
   "execution_count": 15,
   "metadata": {},
   "outputs": [],
   "source": [
    "# Connect to SQL Server\n",
    "conn = pyodbc.connect('Driver={SQL Server};'\n",
    "                      'Server=OMID\\SQLEXPRESS;'\n",
    "                      'Database=AdventureWorks2012;'\n",
    "                      'Trusted_Connection=yes;')\n",
    "\n",
    "# Create a cursor object\n",
    "cursor = conn.cursor()\n",
    "\n",
    "\n",
    "# Execute the BULK INSERT command\n",
    "# bulk_insert_query = \"BULK INSERT [AdventureWorks2012].[dbo].[irancell] FROM 'C:\\\\Users\\\\Lion\\\\Desktop\\\\Test.csv' WITH (FORMAT = 'CSV', FIRSTROW = 2)\"\n",
    "# cursor.execute(bulk_insert_query)\n",
    "try:\n",
    "    create_table_query = \"CREATE TABLE irancell(column1 int, id ntext,type ntext, sectionName ntext, Date datetime, webTitle ntext, webUrl ntext )\"\n",
    "    truncate_query = \"Truncate Table irancell\"\n",
    "    bulk_insert_query = \"BULK INSERT [AdventureWorks2012].[dbo].[irancell] FROM 'C:\\\\Users\\\\Lion\\\\Desktop\\\\Test.csv' WITH (FORMAT = 'CSV', FIRSTROW = 2)\"\n",
    "    cursor.execute(create_table_query)\n",
    "    cursor.execute(truncate_query)\n",
    "    cursor.execute(bulk_insert_query)\n",
    "# if the try raise an error the except would handle it, cause of error is the table have been created before so we just do the bulk insert\n",
    "except:\n",
    "    bulk_insert_query = \"BULK INSERT [AdventureWorks2012].[dbo].[irancell] FROM 'C:\\\\Users\\\\Lion\\\\Desktop\\\\Test.csv' WITH (FORMAT = 'CSV', FIRSTROW = 2)\"\n",
    "    truncate_query = \"Truncate Table irancell\"\n",
    "    cursor.execute(truncate_query)\n",
    "    cursor.execute(bulk_insert_query)\n",
    "\n",
    "# Commit the transaction\n",
    "conn.commit()\n",
    "\n",
    "# Close the cursor and connection objects\n",
    "cursor.close()\n",
    "conn.close()\n",
    "logging.info(\"WE HAVE DONE IT SUCESSFULLY\")"
   ]
  },
  {
   "attachments": {},
   "cell_type": "markdown",
   "metadata": {},
   "source": [
    "![](https://github.com/showmidelo/Irancell_Task/blob/main/ms%20sql%20server%20test%20for%20bulk%20insert.jpg?raw=true)"
   ]
  },
  {
   "attachments": {},
   "cell_type": "markdown",
   "metadata": {},
   "source": [
    "# **4. Do require a cleansing process on the data**"
   ]
  },
  {
   "attachments": {},
   "cell_type": "markdown",
   "metadata": {},
   "source": [
    "*check different section names*"
   ]
  },
  {
   "cell_type": "code",
   "execution_count": null,
   "metadata": {},
   "outputs": [
    {
     "data": {
      "text/plain": [
       "sectionName\n",
       "Environment            200\n",
       "Television & radio     200\n",
       "World news            1600\n",
       "dtype: int64"
      ]
     },
     "execution_count": 75,
     "metadata": {},
     "output_type": "execute_result"
    }
   ],
   "source": [
    "df.groupby(df['sectionName']).size()"
   ]
  },
  {
   "cell_type": "code",
   "execution_count": null,
   "metadata": {},
   "outputs": [
    {
     "data": {
      "text/plain": [
       "webPublicationDate\n",
       "2022-09-08 19:48:01+00:00    200\n",
       "2022-11-02 17:57:23+00:00    200\n",
       "2022-12-08 12:15:00+00:00    200\n",
       "2022-12-08 16:53:29+00:00    200\n",
       "2023-02-08 01:13:46+00:00    200\n",
       "2023-02-12 07:28:59+00:00    200\n",
       "2023-03-07 00:18:42+00:00    200\n",
       "2023-03-09 16:16:12+00:00    200\n",
       "2023-03-24 21:41:14+00:00    200\n",
       "2023-04-28 18:45:21+00:00    200\n",
       "dtype: int64"
      ]
     },
     "execution_count": 76,
     "metadata": {},
     "output_type": "execute_result"
    }
   ],
   "source": [
    "df.groupby(df['Date']).size()"
   ]
  },
  {
   "attachments": {},
   "cell_type": "markdown",
   "metadata": {},
   "source": [
    "# **How to schedule python script to run every day at an exact time**"
   ]
  },
  {
   "attachments": {},
   "cell_type": "markdown",
   "metadata": {},
   "source": [
    "1. In the Windows Task Scheduler, create a new task.\n",
    "\n",
    "2 . In the \"General\" tab, enter the name of the task and select how often you want it to run.\n",
    "\n",
    "3. In the \"Triggers\" tab, select \"New.\"\n",
    "\n",
    "4. In the \"Begin the task\" drop-down, select \"On a schedule.\"\n",
    "\n",
    "5. In the \"Settings\" section, select \"Daily\" and enter the time you want the task to run.\n",
    "\n",
    "6. In the \"Actions\" tab, select \"New.\"\n",
    "\n",
    "7. In the \"Action\" drop-down, select \"Start a program.\"\n",
    "\n",
    "8. In the \"Program/script\" field, enter the full path to the Python interpreter, such as \"C:\\Python27\\python.exe.\"\n",
    "\n",
    "9. In the \"Add arguments (optional)\" field, enter the full path to the \"task.py\" file.\n",
    "\n",
    "10. Click \"OK\" to save the task"
   ]
  },
  {
   "attachments": {},
   "cell_type": "markdown",
   "metadata": {},
   "source": [
    "# __*first step*__"
   ]
  },
  {
   "attachments": {},
   "cell_type": "markdown",
   "metadata": {},
   "source": [
    "![](https://github.com/showmidelo/Irancell_Task/blob/main/schedule%20pictures/1.jpg?raw=true)"
   ]
  },
  {
   "attachments": {},
   "cell_type": "markdown",
   "metadata": {},
   "source": [
    "# __*Second step*__"
   ]
  },
  {
   "attachments": {},
   "cell_type": "markdown",
   "metadata": {},
   "source": [
    "![](https://github.com/showmidelo/Irancell_Task/blob/main/schedule%20pictures/2.jpg?raw=true)"
   ]
  },
  {
   "attachments": {},
   "cell_type": "markdown",
   "metadata": {},
   "source": [
    "# __*Third step*__"
   ]
  },
  {
   "attachments": {},
   "cell_type": "markdown",
   "metadata": {},
   "source": [
    "![](https://github.com/showmidelo/Irancell_Task/blob/main/schedule%20pictures/3.jpg?raw=true)"
   ]
  },
  {
   "attachments": {},
   "cell_type": "markdown",
   "metadata": {},
   "source": [
    "# __*Fourth step*__"
   ]
  },
  {
   "attachments": {},
   "cell_type": "markdown",
   "metadata": {},
   "source": [
    "![](https://github.com/showmidelo/Irancell_Task/blob/main/schedule%20pictures/4.jpg?raw=true)"
   ]
  }
 ],
 "metadata": {
  "kernelspec": {
   "display_name": "VSC",
   "language": "python",
   "name": "python3"
  },
  "language_info": {
   "codemirror_mode": {
    "name": "ipython",
    "version": 3
   },
   "file_extension": ".py",
   "mimetype": "text/x-python",
   "name": "python",
   "nbconvert_exporter": "python",
   "pygments_lexer": "ipython3",
   "version": "3.10.6"
  },
  "orig_nbformat": 4
 },
 "nbformat": 4,
 "nbformat_minor": 2
}
